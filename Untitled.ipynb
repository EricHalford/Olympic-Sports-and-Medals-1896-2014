{
 "cells": [
  {
   "cell_type": "markdown",
   "id": "2e2b06c0",
   "metadata": {},
   "source": [
    "Using this first line to import any necessary tools"
   ]
  },
  {
   "cell_type": "code",
   "execution_count": 80,
   "id": "2c3ca3db",
   "metadata": {},
   "outputs": [],
   "source": [
    "import numpy as np\n",
    "import pandas as pd\n",
    "import matplotlib.pyplot as plt"
   ]
  },
  {
   "cell_type": "markdown",
   "id": "f5062edb",
   "metadata": {},
   "source": [
    "Going to start by importing all my data into pandas dataframes and then begin exploring the data to see what it is I am working with."
   ]
  },
  {
   "cell_type": "code",
   "execution_count": 81,
   "id": "4d88fa4a",
   "metadata": {},
   "outputs": [],
   "source": [
    "summer = pd.read_csv('summer.csv')\n",
    "winter = pd.read_csv('winter.csv')\n",
    "dictionary = pd.read_csv('dictionary.csv')\n",
    "track = pd.read_csv('Track.csv')"
   ]
  },
  {
   "cell_type": "markdown",
   "id": "015a1e24",
   "metadata": {},
   "source": [
    "I previewed the data in excel, and I want to start by using the dictionary set to add columns to the other 3 data sets that provide the full country name as opposed to just the country code. I printed the first 5 columns of dictionary just so you can see what I'm talking about."
   ]
  },
  {
   "cell_type": "code",
   "execution_count": 82,
   "id": "b8bdb780",
   "metadata": {},
   "outputs": [
    {
     "name": "stdout",
     "output_type": "stream",
     "text": [
      "           Country Code  Population  GDP per Capita\n",
      "0      Afghanistan  AFG  32526562.0      594.323081\n",
      "1          Albania  ALB   2889167.0     3945.217582\n",
      "2          Algeria  ALG  39666519.0     4206.031232\n",
      "3  American Samoa*  ASA     55538.0             NaN\n",
      "4          Andorra  AND     70473.0             NaN\n",
      "Year          31165\n",
      "City          31165\n",
      "Sport         31165\n",
      "Discipline    31165\n",
      "Athlete       31165\n",
      "Country       31161\n",
      "Gender        31165\n",
      "Event         31165\n",
      "Medal         31165\n",
      "dtype: int64\n"
     ]
    }
   ],
   "source": [
    "print(dictionary.head())\n",
    "print(summer.count())"
   ]
  },
  {
   "cell_type": "code",
   "execution_count": 83,
   "id": "f18e0633",
   "metadata": {},
   "outputs": [],
   "source": [
    "summer=summer.merge(dictionary, left_on='Country',right_on='Code',how='left')\n",
    "winter=winter.merge(dictionary, left_on='Country',right_on='Code',how='left')\n",
    "track=track.merge(dictionary, left_on='Country',right_on='Code',how='left')"
   ]
  },
  {
   "cell_type": "code",
   "execution_count": 84,
   "id": "24bc47dd",
   "metadata": {},
   "outputs": [
    {
     "name": "stdout",
     "output_type": "stream",
     "text": [
      "Year              31165\n",
      "City              31165\n",
      "Sport             31165\n",
      "Discipline        31165\n",
      "Athlete           31165\n",
      "Country_x         31161\n",
      "Gender            31165\n",
      "Event             31165\n",
      "Medal             31165\n",
      "Country_y         25742\n",
      "Code              25742\n",
      "Population        25696\n",
      "GDP per Capita    25142\n",
      "dtype: int64\n",
      "Year              5770\n",
      "City              5770\n",
      "Sport             5770\n",
      "Discipline        5770\n",
      "Athlete           5770\n",
      "Country_x         5770\n",
      "Gender            5770\n",
      "Event             5770\n",
      "Medal             5770\n",
      "Country_y         4826\n",
      "Code              4826\n",
      "Population        4826\n",
      "GDP per Capita    4815\n",
      "dtype: int64\n"
     ]
    }
   ],
   "source": [
    "print(summer.count())\n",
    "print(winter.count())"
   ]
  },
  {
   "cell_type": "markdown",
   "id": "899ddd4f",
   "metadata": {},
   "source": [
    "Ok! What I'm going to try to do now is set up a box plot that will display the top 10 countries by medal count and how those medals are distributed"
   ]
  },
  {
   "cell_type": "code",
   "execution_count": 91,
   "id": "3fc12744",
   "metadata": {},
   "outputs": [
    {
     "name": "stdout",
     "output_type": "stream",
     "text": [
      "Medal           Bronze    Gold  Silver\n",
      "Country_y                             \n",
      "United States   1098.0  2235.0  1252.0\n",
      "United Kingdom   553.0   546.0   621.0\n",
      "Italy            404.0   476.0   416.0\n",
      "Germany          475.0   452.0   378.0\n",
      "Hungary          351.0   412.0   316.0\n",
      "Index(['Bronze', 'Gold', 'Silver'], dtype='object', name='Medal')\n"
     ]
    }
   ],
   "source": [
    "medals_country=summer.groupby(['Country_y','Medal'])['Gender'].count().reset_index().sort_values(by='Gender', ascending=False)\n",
    "medals_country = medals_country.pivot('Country_y','Medal','Gender').fillna(0)\n",
    "top=medals_country.sort_values(by='Gold',ascending=False)[:11]\n",
    "\n",
    "print(top.head())\n",
    "print(top.columns)\n"
   ]
  },
  {
   "cell_type": "code",
   "execution_count": 95,
   "id": "76fe9171",
   "metadata": {},
   "outputs": [
    {
     "data": {
      "image/png": "[encoded data removed]",
      "text/plain": [
       "<Figure size 432x288 with 1 Axes>"
      ]
     },
     "metadata": {
      "needs_background": "light"
     },
     "output_type": "display_data"
    },
    {
     "data": {
      "text/plain": [
       "<Figure size 432x288 with 0 Axes>"
      ]
     },
     "metadata": {},
     "output_type": "display_data"
    }
   ],
   "source": [
    "plt.bar(top.index, top['Gold'], width = 0.8)\n",
    "plt.xticks(rotation=90)\n",
    "plt.show()\n",
    "plt.clf()"
   ]
  },
  {
   "cell_type": "code",
   "execution_count": null,
   "id": "5a3e1ed4",
   "metadata": {},
   "outputs": [],
   "source": [
    "Men = medal_country()"
   ]
  },
  {
   "cell_type": "code",
   "execution_count": null,
   "id": "3cca8c35",
   "metadata": {},
   "outputs": [],
   "source": []
  },
  {
   "cell_type": "code",
   "execution_count": null,
   "id": "baa6a272",
   "metadata": {},
   "outputs": [],
   "source": []
  },
  {
   "cell_type": "code",
   "execution_count": null,
   "id": "16679120",
   "metadata": {},
   "outputs": [],
   "source": []
  },
  {
   "cell_type": "code",
   "execution_count": null,
   "id": "b2e66b50",
   "metadata": {},
   "outputs": [],
   "source": []
  },
  {
   "cell_type": "code",
   "execution_count": null,
   "id": "fd217f67",
   "metadata": {},
   "outputs": [],
   "source": []
  },
  {
   "cell_type": "markdown",
   "id": "81c873e4",
   "metadata": {},
   "source": [
    "This failed... tried to find correlation in GDP and medal count. might come back later"
   ]
  },
  {
   "cell_type": "code",
   "execution_count": 64,
   "id": "04c32550",
   "metadata": {},
   "outputs": [
    {
     "name": "stdout",
     "output_type": "stream",
     "text": [
      "Index(['Country_y', 'Year', 'City', 'Sport', 'Discipline', 'Athlete',\n",
      "       'Country_x', 'Gender', 'Event', 'Medal', 'Code_x', 'Population_x',\n",
      "       'GDP per Capita_x', 'Country', 'Code_y', 'Population_y',\n",
      "       'GDP per Capita_y'],\n",
      "      dtype='object')\n"
     ]
    },
    {
     "data": {
      "image/png": "[encoded data removed]",
      "text/plain": [
       "<Figure size 432x288 with 1 Axes>"
      ]
     },
     "metadata": {
      "needs_background": "light"
     },
     "output_type": "display_data"
    }
   ],
   "source": [
    "medal_count = summer.groupby(['Country_y']).count().reset_index()\n",
    "medal_count = medal_count.merge(dictionary, left_on='Country_y',right_on='Country',how='left')\n",
    "print(medal_count.columns)\n",
    "\n",
    "\n",
    "plt.scatter(medal_count['Medal'], medal_count['GDP per Capita_y'])\n",
    "plt.show()\n",
    "\n",
    "\n"
   ]
  },
  {
   "cell_type": "code",
   "execution_count": null,
   "id": "275decf3",
   "metadata": {},
   "outputs": [],
   "source": []
  },
  {
   "cell_type": "code",
   "execution_count": null,
   "id": "375f3000",
   "metadata": {},
   "outputs": [],
   "source": []
  },
  {
   "cell_type": "code",
   "execution_count": null,
   "id": "99bcc35c",
   "metadata": {},
   "outputs": [],
   "source": []
  },
  {
   "cell_type": "code",
   "execution_count": null,
   "id": "d77f6174",
   "metadata": {},
   "outputs": [],
   "source": []
  },
  {
   "cell_type": "markdown",
   "id": "6ff708e3",
   "metadata": {},
   "source": [
    "I've successfully merged Dictionary with all 3 data sets. I now want to see how GDP affects a variety of different metrics. My next step will be to remove countries without a mea"
   ]
  },
  {
   "cell_type": "code",
   "execution_count": 11,
   "id": "c9b1b4e8",
   "metadata": {},
   "outputs": [],
   "source": [
    "summer = summer.dropna()\n",
    "winter = winter.dropna()\n",
    "track = track.dropna()"
   ]
  },
  {
   "cell_type": "code",
   "execution_count": 13,
   "id": "8f09d814",
   "metadata": {},
   "outputs": [
    {
     "name": "stdout",
     "output_type": "stream",
     "text": [
      "Year              25142\n",
      "City              25142\n",
      "Sport             25142\n",
      "Discipline        25142\n",
      "Athlete           25142\n",
      "Country_x         25142\n",
      "Gender            25142\n",
      "Event             25142\n",
      "Medal             25142\n",
      "Country_y         25142\n",
      "Code              25142\n",
      "Population        25142\n",
      "GDP per Capita    25142\n",
      "dtype: int64\n",
      "Year              4815\n",
      "City              4815\n",
      "Sport             4815\n",
      "Discipline        4815\n",
      "Athlete           4815\n",
      "Country_x         4815\n",
      "Gender            4815\n",
      "Event             4815\n",
      "Medal             4815\n",
      "Country_y         4815\n",
      "Code              4815\n",
      "Population        4815\n",
      "GDP per Capita    4815\n",
      "dtype: int64\n",
      "Rank              17261\n",
      "Time              17261\n",
      "Name              17261\n",
      "Country_x         17261\n",
      "Date of Birth     17261\n",
      "Place             17261\n",
      "City              17261\n",
      "Date              17261\n",
      "Gender            17261\n",
      "Event             17261\n",
      "Country_y         17261\n",
      "Code              17261\n",
      "Population        17261\n",
      "GDP per Capita    17261\n",
      "dtype: int64\n"
     ]
    }
   ],
   "source": [
    "print(summer.count())\n",
    "print(winter.count())\n",
    "print(track.count())"
   ]
  },
  {
   "cell_type": "markdown",
   "id": "309df72f",
   "metadata": {},
   "source": [
    "Ok! I have my data ready to be analyzed. Which countries (with a complete set of data) \n"
   ]
  },
  {
   "cell_type": "code",
   "execution_count": 17,
   "id": "ef16ef16",
   "metadata": {},
   "outputs": [
    {
     "name": "stdout",
     "output_type": "stream",
     "text": [
      "   Rank             Time             Name Country_x Date of Birth  Place  \\\n",
      "0     1  00:01:40.910000    David Rudisha       KEN    1988-12-17    1.0   \n",
      "1     2  00:01:41.010000    David Rudisha       KEN    1988-12-17    1.0   \n",
      "2     3  00:01:41.090000    David Rudisha       KEN    1988-12-17    1.0   \n",
      "3     4  00:01:41.110000  Wilson Kipketer       DEN    1970-12-12    1.0   \n",
      "4     5  00:01:41.240000  Wilson Kipketer       DEN    1970-12-12    1.0   \n",
      "\n",
      "     City        Date Gender  Event Country_y Code  Population  GDP per Capita  \n",
      "0  London  2012-09-08    Men  800 m     Kenya  KEN  46050302.0     1376.712829  \n",
      "1   Rieti  2010-08-29    Men  800 m     Kenya  KEN  46050302.0     1376.712829  \n",
      "2  Berlin  2010-08-22    Men  800 m     Kenya  KEN  46050302.0     1376.712829  \n",
      "3    Köln  1997-08-24    Men  800 m   Denmark  DEN   5676002.0    51989.293471  \n",
      "4  Zürich  1997-08-13    Men  800 m   Denmark  DEN   5676002.0    51989.293471  \n",
      "['800 m' '400 m' '10,000 m' 'Marathon' '100 m' 'Half marathon' '200 m'\n",
      " '1500 m' '5000 m']\n"
     ]
    }
   ],
   "source": [
    "print(track.head())\n",
    "print(track['Event'].unique())"
   ]
  }
 ],
 "metadata": {
  "kernelspec": {
   "display_name": "Python 3",
   "language": "python",
   "name": "python3"
  },
  "language_info": {
   "codemirror_mode": {
    "name": "ipython",
    "version": 3
   },
   "file_extension": ".py",
   "mimetype": "text/x-python",
   "name": "python",
   "nbconvert_exporter": "python",
   "pygments_lexer": "ipython3",
   "version": "3.8.8"
  }
 },
 "nbformat": 4,
 "nbformat_minor": 5
}
